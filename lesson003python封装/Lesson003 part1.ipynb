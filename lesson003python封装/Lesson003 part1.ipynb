{
 "cells": [
  {
   "cell_type": "markdown",
   "id": "c41c2f76-9b84-419a-b5a5-6a4d62e4b786",
   "metadata": {
    "tags": []
   },
   "source": [
    "# 测试利用类来封装"
   ]
  },
  {
   "cell_type": "markdown",
   "id": "a2fa6250-5820-48f3-93e4-c3040ca409bb",
   "metadata": {
    "jp-MarkdownHeadingCollapsed": true,
    "tags": []
   },
   "source": [
    "## 定义函数缺少self"
   ]
  },
  {
   "cell_type": "code",
   "execution_count": 1,
   "id": "32719cdc-6d3d-4e45-8f0b-ccfaa84948b4",
   "metadata": {},
   "outputs": [],
   "source": [
    "class frame2D:\n",
    "    def __init__(self,center,x_axis):\n",
    "        self.center=center\n",
    "        self.x_axis=x_axis\n",
    "    def show(text,size,color):#def show(self,text,size,color):\n",
    "        print(text)\n",
    "        print(size)\n",
    "        print(color)"
   ]
  },
  {
   "cell_type": "code",
   "execution_count": 2,
   "id": "244fa469-a114-4d5b-ac16-5a363968994e",
   "metadata": {},
   "outputs": [],
   "source": [
    "A=frame2D([0,0],[0,1])"
   ]
  },
  {
   "cell_type": "code",
   "execution_count": 3,
   "id": "8ff47e12-4ee4-4bb6-b57d-50c2ec7f7266",
   "metadata": {},
   "outputs": [
    {
     "ename": "TypeError",
     "evalue": "show() takes 3 positional arguments but 4 were given",
     "output_type": "error",
     "traceback": [
      "\u001b[1;31m---------------------------------------------------------------------------\u001b[0m",
      "\u001b[1;31mTypeError\u001b[0m                                 Traceback (most recent call last)",
      "Cell \u001b[1;32mIn[3], line 1\u001b[0m\n\u001b[1;32m----> 1\u001b[0m \u001b[43mA\u001b[49m\u001b[38;5;241;43m.\u001b[39;49m\u001b[43mshow\u001b[49m\u001b[43m(\u001b[49m\u001b[38;5;241;43m1\u001b[39;49m\u001b[43m,\u001b[49m\u001b[38;5;241;43m1\u001b[39;49m\u001b[43m,\u001b[49m\u001b[38;5;124;43m\"\u001b[39;49m\u001b[38;5;124;43mred\u001b[39;49m\u001b[38;5;124;43m\"\u001b[39;49m\u001b[43m)\u001b[49m\n",
      "\u001b[1;31mTypeError\u001b[0m: show() takes 3 positional arguments but 4 were given"
     ]
    }
   ],
   "source": [
    "A.show(1,1,\"red\")"
   ]
  },
  {
   "cell_type": "markdown",
   "id": "365190df-ca44-409e-a323-586b7a2ddb9f",
   "metadata": {
    "jp-MarkdownHeadingCollapsed": true,
    "tags": []
   },
   "source": [
    "## 改正后"
   ]
  },
  {
   "cell_type": "code",
   "execution_count": 4,
   "id": "c6a36a9b-9d53-4af0-a858-8fba8e7a21cc",
   "metadata": {},
   "outputs": [],
   "source": [
    "class frame2D:\n",
    "    def __init__(self,center,x_axis):\n",
    "        self.center=center\n",
    "        self.x_axis=x_axis\n",
    "    def show(self,text,size,color):\n",
    "        print(text)\n",
    "        print(size)\n",
    "        print(color)"
   ]
  },
  {
   "cell_type": "code",
   "execution_count": 5,
   "id": "d692e504-d0ae-44f7-8cc2-66c7ce12af59",
   "metadata": {},
   "outputs": [
    {
     "name": "stdout",
     "output_type": "stream",
     "text": [
      "1\n",
      "1\n",
      "red\n"
     ]
    }
   ],
   "source": [
    "A=frame2D([0,0],[0,1])\n",
    "A.show(1,1,\"red\")"
   ]
  },
  {
   "cell_type": "markdown",
   "id": "0be45c90-d794-4ca9-a02e-924f5263fa00",
   "metadata": {},
   "source": [
    "# 正式编写frame2D类"
   ]
  },
  {
   "cell_type": "code",
   "execution_count": 6,
   "id": "8513cc44-8a1a-4620-84d4-3d2463a9b78e",
   "metadata": {},
   "outputs": [
    {
     "data": {
      "text/plain": [
       "(-10.0, 10.0)"
      ]
     },
     "execution_count": 6,
     "metadata": {},
     "output_type": "execute_result"
    },
    {
     "data": {
      "image/png": "[encoded data removed]",
      "text/plain": [
       "<Figure size 640x480 with 1 Axes>"
      ]
     },
     "metadata": {},
     "output_type": "display_data"
    }
   ],
   "source": [
    "import numpy as np\n",
    "import matplotlib.pyplot as plt\n",
    "R90=np.array([[0,-1],[1,0]])\n",
    "def frame_show(label,Point_A,Point_B,ax,size):\n",
    "    import numpy as np\n",
    "    R90=np.array([[0,-1],[1,0]])\n",
    "    Line_AB=Point_B-Point_A\n",
    "    norm_Line_AB=np.linalg.norm(Line_AB)\n",
    "    if norm_Line_AB!=1:\n",
    "        Line_AB=Line_AB/norm_Line_AB*size\n",
    "    ax.arrow(Point_A[0],Point_A[1],Line_AB[0],Line_AB[1],head_width=0.5,length_includes_head=True,color=\"red\")\n",
    "    R90=np.array([[0,-1],[1,0]])#旋转公式\n",
    "    Line_AB_Rot90=R90.dot(Line_AB)#点乘 \n",
    "    ax.arrow(Point_A[0],Point_A[1],Line_AB_Rot90[0],Line_AB_Rot90[1],head_width=0.5,length_includes_head=True,color=\"green\")\n",
    "    plt.scatter(Point_A[0],Point_A[1])\n",
    "    label=\"{\"+str(label)+\"}\"\n",
    "    plt.text(Point_A[0],Point_A[1],label)\n",
    "    \n",
    "def Rot_func(angle):\n",
    "    import numpy as np\n",
    "    angle=np.deg2rad(angle)\n",
    "    R90=np.array([[0,-1],[1,0]])\n",
    "    elem_sim=lambda elem: np.around(elem,0) if (elem-np.around(elem,0))<1e-10 else elem\n",
    "    A11=elem_sim(np.cos(angle))\n",
    "    A12=elem_sim(-np.sin(angle))\n",
    "    A21=elem_sim(np.sin(angle))\n",
    "    A22=A11\n",
    "    Rot=np.array([[A11,A12],[A21,A22]])\n",
    "    return Rot\n",
    "\n",
    "def frame_show_angle_center(label,center,angle,ax,size):\n",
    "    Rot=Rot_func(angle)\n",
    "    x=np.array([1,0])\n",
    "    x=Rot.dot(x)\n",
    "    frame_show(label,center,x+center,ax,size)\n",
    "\n",
    "ax=plt.axes()\n",
    "frame_show_angle_center(1,np.array([4,5]),45,ax,2)\n",
    "plt.axis('equal')# 等轴\n",
    "plt.xlim([-10,10])\n",
    "plt.ylim([-10,10])\n",
    "\n",
    "    "
   ]
  },
  {
   "cell_type": "code",
   "execution_count": 7,
   "id": "7246ea9a-5387-4749-94e8-36b896c7e698",
   "metadata": {},
   "outputs": [],
   "source": [
    "class frame2D:\n",
    "    def __init__(self):\n",
    "        self.center=np.array([0,0])\n",
    "        self.x_axis=np.array([1,0])\n",
    "        self.y_axis=np.array([0,1])\n",
    "        self.angle=0\n",
    "    def show(self,ax,label,size,color):\n",
    "        frame_show_angle_center(label,self.center,self.angle,ax,size)"
   ]
  },
  {
   "cell_type": "code",
   "execution_count": 8,
   "id": "225fbab1-ccb1-4093-a90c-ee69de9853d3",
   "metadata": {},
   "outputs": [
    {
     "name": "stdout",
     "output_type": "stream",
     "text": [
      "<__main__.frame2D object at 0x000002C63EA50CD0>\n"
     ]
    },
    {
     "data": {
      "image/png": "[encoded data removed]",
      "text/plain": [
       "<Figure size 640x480 with 1 Axes>"
      ]
     },
     "metadata": {},
     "output_type": "display_data"
    }
   ],
   "source": [
    "ax=plt.axes()\n",
    "xlimit=10\n",
    "ylimit=10\n",
    "plt.axis('equal')# 等轴\n",
    "plt.xlim([-xlimit,xlimit])\n",
    "plt.ylim([-ylimit,ylimit])\n",
    "A=frame2D()\n",
    "A.angle=30\n",
    "A.show(ax,\"A\",2,\"red\")\n",
    "B=frame2D()\n",
    "B.angle=0\n",
    "B.center=np.array([5,0])\n",
    "print(B) \n",
    "B.show(ax,\"B\",3,\"blue\")"
   ]
  }
 ],
 "metadata": {
  "kernelspec": {
   "display_name": "Python 3 (ipykernel)",
   "language": "python",
   "name": "python3"
  },
  "language_info": {
   "codemirror_mode": {
    "name": "ipython",
    "version": 3
   },
   "file_extension": ".py",
   "mimetype": "text/x-python",
   "name": "python",
   "nbconvert_exporter": "python",
   "pygments_lexer": "ipython3",
   "version": "3.9.13"
  }
 },
 "nbformat": 4,
 "nbformat_minor": 5
}
